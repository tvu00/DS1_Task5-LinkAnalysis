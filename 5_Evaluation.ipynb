{
 "cells": [
  {
   "cell_type": "markdown",
   "source": [
    "## Task 5: 5) Implementation of Evaluation\n",
    " Implement an evaluation module that compares the outcomes of the two PageRank algorithms with respect to differences in the obtained ranks. Report on the implementation (1 slide)."
   ],
   "metadata": {
    "collapsed": false,
    "pycharm": {
     "name": "#%% md\n"
    }
   }
  },
  {
   "cell_type": "markdown",
   "source": [
    "### Preparing the outcomes of the algorithm"
   ],
   "metadata": {
    "collapsed": false,
    "pycharm": {
     "name": "#%% md\n"
    }
   }
  },
  {
   "cell_type": "code",
   "execution_count": 60,
   "outputs": [],
   "source": [
    "import pandas as pd\n",
    "# read the outcome files in\n",
    "ts_df = pd.read_csv('TopicSpecPageRank.csv', delimiter='\\t')"
   ],
   "metadata": {
    "collapsed": false,
    "pycharm": {
     "name": "#%%\n"
    }
   }
  },
  {
   "cell_type": "code",
   "execution_count": 61,
   "outputs": [],
   "source": [
    "basic_df = pd.read_csv('BasicPageRank.csv', delimiter='\\t')"
   ],
   "metadata": {
    "collapsed": false,
    "pycharm": {
     "name": "#%%\n"
    }
   }
  },
  {
   "cell_type": "code",
   "execution_count": 62,
   "outputs": [],
   "source": [
    "ts_df=ts_df.rename(columns={\"PPR in/in-degree\": \"rPPR\"})\n",
    "ts_df=ts_df.sort_values(by='rPPR', ascending=False)\n",
    "basic_df=basic_df.sort_values(by='PR', ascending=False)"
   ],
   "metadata": {
    "collapsed": false,
    "pycharm": {
     "name": "#%%\n"
    }
   }
  },
  {
   "cell_type": "code",
   "execution_count": 6,
   "outputs": [
    {
     "data": {
      "text/plain": "         Node        PR     PPR InOut    PPR In       PPR Out  Degree  \\\n54     653820  0.000675  6.982866e-04  0.000780  6.194374e-04       2   \n2024   373863  0.000104  1.007062e-04  0.000110  9.221020e-05      10   \n1685   439935  0.000118  9.621778e-05  0.000107  8.624325e-05       2   \n778    752014  0.000191  1.820639e-04  0.000204  1.611086e-04       2   \n2009   193034  0.000104  7.686650e-05  0.000085  6.871177e-05       1   \n...       ...       ...           ...       ...           ...     ...   \n21535  176507  0.000012  2.879720e-07  0.000000  5.628240e-07       1   \n21536   80731  0.000012  2.879720e-07  0.000000  5.628240e-07       1   \n21537  199920  0.000012  2.879720e-07  0.000000  5.628240e-07       1   \n21538   18452  0.000012  2.879720e-07  0.000000  5.628240e-07       1   \n21539   18744  0.000012  2.879720e-07  0.000000  5.628240e-07       1   \n\n       In-degree  Out-degree      rPPR  Alpha: 0.85  \n54             2           0  0.000390          NaN  \n2024           1           9  0.000110          NaN  \n1685           1           1  0.000107          NaN  \n778            2           0  0.000102          NaN  \n2009           1           0  0.000085          NaN  \n...          ...         ...       ...          ...  \n21535          0           1       NaN          NaN  \n21536          0           1       NaN          NaN  \n21537          0           1       NaN          NaN  \n21538          0           1       NaN          NaN  \n21539          0           1       NaN          NaN  \n\n[21540 rows x 10 columns]",
      "text/html": "<div>\n<style scoped>\n    .dataframe tbody tr th:only-of-type {\n        vertical-align: middle;\n    }\n\n    .dataframe tbody tr th {\n        vertical-align: top;\n    }\n\n    .dataframe thead th {\n        text-align: right;\n    }\n</style>\n<table border=\"1\" class=\"dataframe\">\n  <thead>\n    <tr style=\"text-align: right;\">\n      <th></th>\n      <th>Node</th>\n      <th>PR</th>\n      <th>PPR InOut</th>\n      <th>PPR In</th>\n      <th>PPR Out</th>\n      <th>Degree</th>\n      <th>In-degree</th>\n      <th>Out-degree</th>\n      <th>rPPR</th>\n      <th>Alpha: 0.85</th>\n    </tr>\n  </thead>\n  <tbody>\n    <tr>\n      <th>54</th>\n      <td>653820</td>\n      <td>0.000675</td>\n      <td>6.982866e-04</td>\n      <td>0.000780</td>\n      <td>6.194374e-04</td>\n      <td>2</td>\n      <td>2</td>\n      <td>0</td>\n      <td>0.000390</td>\n      <td>NaN</td>\n    </tr>\n    <tr>\n      <th>2024</th>\n      <td>373863</td>\n      <td>0.000104</td>\n      <td>1.007062e-04</td>\n      <td>0.000110</td>\n      <td>9.221020e-05</td>\n      <td>10</td>\n      <td>1</td>\n      <td>9</td>\n      <td>0.000110</td>\n      <td>NaN</td>\n    </tr>\n    <tr>\n      <th>1685</th>\n      <td>439935</td>\n      <td>0.000118</td>\n      <td>9.621778e-05</td>\n      <td>0.000107</td>\n      <td>8.624325e-05</td>\n      <td>2</td>\n      <td>1</td>\n      <td>1</td>\n      <td>0.000107</td>\n      <td>NaN</td>\n    </tr>\n    <tr>\n      <th>778</th>\n      <td>752014</td>\n      <td>0.000191</td>\n      <td>1.820639e-04</td>\n      <td>0.000204</td>\n      <td>1.611086e-04</td>\n      <td>2</td>\n      <td>2</td>\n      <td>0</td>\n      <td>0.000102</td>\n      <td>NaN</td>\n    </tr>\n    <tr>\n      <th>2009</th>\n      <td>193034</td>\n      <td>0.000104</td>\n      <td>7.686650e-05</td>\n      <td>0.000085</td>\n      <td>6.871177e-05</td>\n      <td>1</td>\n      <td>1</td>\n      <td>0</td>\n      <td>0.000085</td>\n      <td>NaN</td>\n    </tr>\n    <tr>\n      <th>...</th>\n      <td>...</td>\n      <td>...</td>\n      <td>...</td>\n      <td>...</td>\n      <td>...</td>\n      <td>...</td>\n      <td>...</td>\n      <td>...</td>\n      <td>...</td>\n      <td>...</td>\n    </tr>\n    <tr>\n      <th>21535</th>\n      <td>176507</td>\n      <td>0.000012</td>\n      <td>2.879720e-07</td>\n      <td>0.000000</td>\n      <td>5.628240e-07</td>\n      <td>1</td>\n      <td>0</td>\n      <td>1</td>\n      <td>NaN</td>\n      <td>NaN</td>\n    </tr>\n    <tr>\n      <th>21536</th>\n      <td>80731</td>\n      <td>0.000012</td>\n      <td>2.879720e-07</td>\n      <td>0.000000</td>\n      <td>5.628240e-07</td>\n      <td>1</td>\n      <td>0</td>\n      <td>1</td>\n      <td>NaN</td>\n      <td>NaN</td>\n    </tr>\n    <tr>\n      <th>21537</th>\n      <td>199920</td>\n      <td>0.000012</td>\n      <td>2.879720e-07</td>\n      <td>0.000000</td>\n      <td>5.628240e-07</td>\n      <td>1</td>\n      <td>0</td>\n      <td>1</td>\n      <td>NaN</td>\n      <td>NaN</td>\n    </tr>\n    <tr>\n      <th>21538</th>\n      <td>18452</td>\n      <td>0.000012</td>\n      <td>2.879720e-07</td>\n      <td>0.000000</td>\n      <td>5.628240e-07</td>\n      <td>1</td>\n      <td>0</td>\n      <td>1</td>\n      <td>NaN</td>\n      <td>NaN</td>\n    </tr>\n    <tr>\n      <th>21539</th>\n      <td>18744</td>\n      <td>0.000012</td>\n      <td>2.879720e-07</td>\n      <td>0.000000</td>\n      <td>5.628240e-07</td>\n      <td>1</td>\n      <td>0</td>\n      <td>1</td>\n      <td>NaN</td>\n      <td>NaN</td>\n    </tr>\n  </tbody>\n</table>\n<p>21540 rows × 10 columns</p>\n</div>"
     },
     "execution_count": 6,
     "metadata": {},
     "output_type": "execute_result"
    }
   ],
   "source": [
    "ts_df"
   ],
   "metadata": {
    "collapsed": false,
    "pycharm": {
     "name": "#%%\n"
    }
   }
  },
  {
   "cell_type": "code",
   "execution_count": 7,
   "outputs": [
    {
     "data": {
      "text/plain": "            Node        PR  Degree  In-degree  Out-degree\n166          351  0.012151    2130       1984         146\n1119      375791  0.002411     566        518          48\n947       440295  0.002287     212        209           3\n3963      388677  0.002063     371        359          12\n121       386682  0.001898     476        449          27\n...          ...       ...     ...        ...         ...\n19911      23574  0.000012       2          0           2\n15623      19211  0.000012      12          0          12\n15617     856859  0.000012       3          0           3\n15612      51301  0.000012       4          0           4\n0      Gene ID 1  0.000012       1          0           1\n\n[21540 rows x 5 columns]",
      "text/html": "<div>\n<style scoped>\n    .dataframe tbody tr th:only-of-type {\n        vertical-align: middle;\n    }\n\n    .dataframe tbody tr th {\n        vertical-align: top;\n    }\n\n    .dataframe thead th {\n        text-align: right;\n    }\n</style>\n<table border=\"1\" class=\"dataframe\">\n  <thead>\n    <tr style=\"text-align: right;\">\n      <th></th>\n      <th>Node</th>\n      <th>PR</th>\n      <th>Degree</th>\n      <th>In-degree</th>\n      <th>Out-degree</th>\n    </tr>\n  </thead>\n  <tbody>\n    <tr>\n      <th>166</th>\n      <td>351</td>\n      <td>0.012151</td>\n      <td>2130</td>\n      <td>1984</td>\n      <td>146</td>\n    </tr>\n    <tr>\n      <th>1119</th>\n      <td>375791</td>\n      <td>0.002411</td>\n      <td>566</td>\n      <td>518</td>\n      <td>48</td>\n    </tr>\n    <tr>\n      <th>947</th>\n      <td>440295</td>\n      <td>0.002287</td>\n      <td>212</td>\n      <td>209</td>\n      <td>3</td>\n    </tr>\n    <tr>\n      <th>3963</th>\n      <td>388677</td>\n      <td>0.002063</td>\n      <td>371</td>\n      <td>359</td>\n      <td>12</td>\n    </tr>\n    <tr>\n      <th>121</th>\n      <td>386682</td>\n      <td>0.001898</td>\n      <td>476</td>\n      <td>449</td>\n      <td>27</td>\n    </tr>\n    <tr>\n      <th>...</th>\n      <td>...</td>\n      <td>...</td>\n      <td>...</td>\n      <td>...</td>\n      <td>...</td>\n    </tr>\n    <tr>\n      <th>19911</th>\n      <td>23574</td>\n      <td>0.000012</td>\n      <td>2</td>\n      <td>0</td>\n      <td>2</td>\n    </tr>\n    <tr>\n      <th>15623</th>\n      <td>19211</td>\n      <td>0.000012</td>\n      <td>12</td>\n      <td>0</td>\n      <td>12</td>\n    </tr>\n    <tr>\n      <th>15617</th>\n      <td>856859</td>\n      <td>0.000012</td>\n      <td>3</td>\n      <td>0</td>\n      <td>3</td>\n    </tr>\n    <tr>\n      <th>15612</th>\n      <td>51301</td>\n      <td>0.000012</td>\n      <td>4</td>\n      <td>0</td>\n      <td>4</td>\n    </tr>\n    <tr>\n      <th>0</th>\n      <td>Gene ID 1</td>\n      <td>0.000012</td>\n      <td>1</td>\n      <td>0</td>\n      <td>1</td>\n    </tr>\n  </tbody>\n</table>\n<p>21540 rows × 5 columns</p>\n</div>"
     },
     "execution_count": 7,
     "metadata": {},
     "output_type": "execute_result"
    }
   ],
   "source": [
    "basic_df"
   ],
   "metadata": {
    "collapsed": false,
    "pycharm": {
     "name": "#%%\n"
    }
   }
  },
  {
   "cell_type": "markdown",
   "source": [
    "### Evaluating the similarity / difference between the two ranking outcomes using Kendall tau\n",
    "(from scratch)"
   ],
   "metadata": {
    "collapsed": false,
    "pycharm": {
     "name": "#%% md\n"
    }
   }
  },
  {
   "cell_type": "code",
   "execution_count": 8,
   "outputs": [],
   "source": [
    "import numpy as np\n",
    "\n",
    "basic_nodes = basic_df[\"Node\"].to_numpy()\n",
    "ts_nodes= ts_df[\"Node\"].to_numpy()"
   ],
   "metadata": {
    "collapsed": false,
    "pycharm": {
     "name": "#%%\n"
    }
   }
  },
  {
   "cell_type": "code",
   "execution_count": null,
   "outputs": [],
   "source": [
    "bi_co = (len(ts_nodes)*(len(ts_nodes)-1))*0.5\n",
    "bi_co"
   ],
   "metadata": {
    "collapsed": false,
    "pycharm": {
     "name": "#%%\n"
    }
   }
  },
  {
   "cell_type": "code",
   "execution_count": null,
   "outputs": [],
   "source": [
    "c_pairs=[]\n",
    "for xi, v1 in enumerate(basic_nodes):\n",
    "    for yi, v2 in enumerate(ts_nodes):\n",
    "        if v1==v2:\n",
    "            for xj, v3 in enumerate(basic_nodes):\n",
    "                if xi<xj and v3!=v1:\n",
    "                    for yj, v4 in enumerate(ts_nodes):\n",
    "                        if v3==v4 and yi<yj:\n",
    "                            c_pairs.append([v1,v3])"
   ],
   "metadata": {
    "collapsed": false,
    "pycharm": {
     "name": "#%%\n"
    }
   }
  },
  {
   "cell_type": "code",
   "execution_count": null,
   "outputs": [],
   "source": [
    "arr_c_pairs=np.array(c_pairs)\n",
    "c_pairs_freq=len(arr_c_pairs)\n",
    "d_pairs_freq=bi_co-c_pairs_freq"
   ],
   "metadata": {
    "collapsed": false,
    "pycharm": {
     "name": "#%%\n"
    }
   }
  },
  {
   "cell_type": "code",
   "execution_count": null,
   "outputs": [],
   "source": [
    "tau=(c_pairs_freq-d_pairs_freq)/bi_co"
   ],
   "metadata": {
    "collapsed": false,
    "pycharm": {
     "name": "#%%\n"
    }
   }
  },
  {
   "cell_type": "code",
   "execution_count": null,
   "outputs": [],
   "source": [
    "tau"
   ],
   "metadata": {
    "collapsed": false,
    "pycharm": {
     "name": "#%%\n"
    }
   }
  },
  {
   "cell_type": "code",
   "execution_count": null,
   "outputs": [],
   "source": [
    "import matplotlib.pyplot as plt\n",
    "import numpy as np\n",
    "from matplotlib.pyplot import figure\n",
    "\n",
    "figure(figsize=(50, 10), dpi=80)\n",
    "\n",
    "nodes=np.c_[ts_nodes, basic_nodes]\n",
    "\n",
    "plt.imshow(nodes, cmap='hot', interpolation='nearest')\n",
    "plt.show()"
   ],
   "metadata": {
    "collapsed": false,
    "pycharm": {
     "name": "#%%\n"
    }
   }
  },
  {
   "cell_type": "markdown",
   "source": [
    "## statistical descriptive comparison of outcomes"
   ],
   "metadata": {
    "collapsed": false,
    "pycharm": {
     "name": "#%% md\n"
    }
   }
  },
  {
   "cell_type": "code",
   "execution_count": null,
   "outputs": [],
   "source": [
    "top_basic_df=basic_df[:1000]\n",
    "top_ts_df=ts_df[:1000]\n",
    "top_ts_df['Degree'].describe()"
   ],
   "metadata": {
    "collapsed": false,
    "pycharm": {
     "name": "#%%\n"
    }
   }
  },
  {
   "cell_type": "code",
   "execution_count": null,
   "outputs": [],
   "source": [
    "top_basic_df['Degree'].describe()"
   ],
   "metadata": {
    "collapsed": false,
    "pycharm": {
     "name": "#%%\n"
    }
   }
  },
  {
   "cell_type": "markdown",
   "source": [
    "## Graphical visualization of result"
   ],
   "metadata": {
    "collapsed": false,
    "pycharm": {
     "name": "#%% md\n"
    }
   }
  },
  {
   "cell_type": "code",
   "execution_count": null,
   "outputs": [],
   "source": [
    "import networkx as nx\n",
    "\n",
    "basic_graph = nx.DiGraph()\n",
    "ts_graph = nx.DiGraph()\n",
    "g_in = {}\n",
    "g_out = {}\n",
    "g_inout = {}\n",
    "degrees = {'in': 0, 'out': 0, 'inout': 0}\n",
    "alpha=0.85\n",
    "\n",
    "file = open('bio-pathways-network.csv', 'r')\n",
    "for row in file.readlines()[1:]:\n",
    "    node1, node2 = row.strip().split(\",\")\n",
    "    for node in basic_nodes[:10]:\n",
    "        print(\"Node1\")\n",
    "        print(node1)\n",
    "        print(\"Node\")\n",
    "        print(node)\n",
    "        if node1 == node:\n",
    "            basic_graph.add_edge(node1, node2)\n",
    "            print(node1)\n",
    "    for node in ts_nodes[:10]:\n",
    "        if node1 == node:\n",
    "            ts_graph.add_edge(node1, node2)\n",
    "file.close()"
   ],
   "metadata": {
    "collapsed": false,
    "pycharm": {
     "name": "#%%\n"
    }
   }
  },
  {
   "cell_type": "code",
   "execution_count": null,
   "outputs": [],
   "source": [
    "import matplotlib.pyplot as plt\n",
    "subplt1 = plt.subplot()\n",
    "options = {'node_color': 'black','node_size': 100, 'width': 3,}\n",
    "nx.draw(ts_graph, **options, with_labels=True)\n",
    "plt.savefig(\"basic_graph.png\")"
   ],
   "metadata": {
    "collapsed": false,
    "pycharm": {
     "name": "#%%\n"
    }
   }
  },
  {
   "cell_type": "code",
   "execution_count": null,
   "outputs": [],
   "source": [],
   "metadata": {
    "collapsed": false,
    "pycharm": {
     "name": "#%%\n"
    }
   }
  },
  {
   "cell_type": "markdown",
   "source": [
    "### Preparing the outcomes of the algorithm"
   ],
   "metadata": {
    "collapsed": false,
    "pycharm": {
     "name": "#%% md\n"
    }
   }
  },
  {
   "cell_type": "code",
   "execution_count": 314,
   "metadata": {
    "collapsed": true,
    "pycharm": {
     "name": "#%%\n"
    }
   },
   "outputs": [],
   "source": [
    "import pandas as pd\n",
    "# read the outcome files in\n",
    "ts_df = pd.read_csv('TopicSpecPageRank.csv', delimiter='\\t')"
   ]
  },
  {
   "cell_type": "code",
   "execution_count": 315,
   "outputs": [],
   "source": [
    "basic_df = pd.read_csv('BasicPageRank.csv', delimiter='\\t')"
   ],
   "metadata": {
    "collapsed": false,
    "pycharm": {
     "name": "#%%\n"
    }
   }
  },
  {
   "cell_type": "code",
   "execution_count": 316,
   "outputs": [],
   "source": [
    "ts_df=ts_df.rename(columns={\"PPR in/in-degree\": \"rPPR\"})\n",
    "ts_df=ts_df.sort_values(by='rPPR', ascending=False)\n",
    "basic_df=basic_df.sort_values(by='PR', ascending=False)"
   ],
   "metadata": {
    "collapsed": false,
    "pycharm": {
     "name": "#%%\n"
    }
   }
  },
  {
   "cell_type": "code",
   "execution_count": 317,
   "outputs": [
    {
     "data": {
      "text/plain": "         Node        PR     PPR InOut    PPR In       PPR Out  Degree  \\\n54     653820  0.000675  6.982866e-04  0.000780  6.194374e-04       2   \n2024   373863  0.000104  1.007062e-04  0.000110  9.221020e-05      10   \n1685   439935  0.000118  9.621778e-05  0.000107  8.624325e-05       2   \n778    752014  0.000191  1.820639e-04  0.000204  1.611086e-04       2   \n2009   193034  0.000104  7.686650e-05  0.000085  6.871177e-05       1   \n...       ...       ...           ...       ...           ...     ...   \n21535  176507  0.000012  2.879720e-07  0.000000  5.628240e-07       1   \n21536   80731  0.000012  2.879720e-07  0.000000  5.628240e-07       1   \n21537  199920  0.000012  2.879720e-07  0.000000  5.628240e-07       1   \n21538   18452  0.000012  2.879720e-07  0.000000  5.628240e-07       1   \n21539   18744  0.000012  2.879720e-07  0.000000  5.628240e-07       1   \n\n       In-degree  Out-degree      rPPR  Alpha: 0.85  \n54             2           0  0.000390          NaN  \n2024           1           9  0.000110          NaN  \n1685           1           1  0.000107          NaN  \n778            2           0  0.000102          NaN  \n2009           1           0  0.000085          NaN  \n...          ...         ...       ...          ...  \n21535          0           1       NaN          NaN  \n21536          0           1       NaN          NaN  \n21537          0           1       NaN          NaN  \n21538          0           1       NaN          NaN  \n21539          0           1       NaN          NaN  \n\n[21540 rows x 10 columns]",
      "text/html": "<div>\n<style scoped>\n    .dataframe tbody tr th:only-of-type {\n        vertical-align: middle;\n    }\n\n    .dataframe tbody tr th {\n        vertical-align: top;\n    }\n\n    .dataframe thead th {\n        text-align: right;\n    }\n</style>\n<table border=\"1\" class=\"dataframe\">\n  <thead>\n    <tr style=\"text-align: right;\">\n      <th></th>\n      <th>Node</th>\n      <th>PR</th>\n      <th>PPR InOut</th>\n      <th>PPR In</th>\n      <th>PPR Out</th>\n      <th>Degree</th>\n      <th>In-degree</th>\n      <th>Out-degree</th>\n      <th>rPPR</th>\n      <th>Alpha: 0.85</th>\n    </tr>\n  </thead>\n  <tbody>\n    <tr>\n      <th>54</th>\n      <td>653820</td>\n      <td>0.000675</td>\n      <td>6.982866e-04</td>\n      <td>0.000780</td>\n      <td>6.194374e-04</td>\n      <td>2</td>\n      <td>2</td>\n      <td>0</td>\n      <td>0.000390</td>\n      <td>NaN</td>\n    </tr>\n    <tr>\n      <th>2024</th>\n      <td>373863</td>\n      <td>0.000104</td>\n      <td>1.007062e-04</td>\n      <td>0.000110</td>\n      <td>9.221020e-05</td>\n      <td>10</td>\n      <td>1</td>\n      <td>9</td>\n      <td>0.000110</td>\n      <td>NaN</td>\n    </tr>\n    <tr>\n      <th>1685</th>\n      <td>439935</td>\n      <td>0.000118</td>\n      <td>9.621778e-05</td>\n      <td>0.000107</td>\n      <td>8.624325e-05</td>\n      <td>2</td>\n      <td>1</td>\n      <td>1</td>\n      <td>0.000107</td>\n      <td>NaN</td>\n    </tr>\n    <tr>\n      <th>778</th>\n      <td>752014</td>\n      <td>0.000191</td>\n      <td>1.820639e-04</td>\n      <td>0.000204</td>\n      <td>1.611086e-04</td>\n      <td>2</td>\n      <td>2</td>\n      <td>0</td>\n      <td>0.000102</td>\n      <td>NaN</td>\n    </tr>\n    <tr>\n      <th>2009</th>\n      <td>193034</td>\n      <td>0.000104</td>\n      <td>7.686650e-05</td>\n      <td>0.000085</td>\n      <td>6.871177e-05</td>\n      <td>1</td>\n      <td>1</td>\n      <td>0</td>\n      <td>0.000085</td>\n      <td>NaN</td>\n    </tr>\n    <tr>\n      <th>...</th>\n      <td>...</td>\n      <td>...</td>\n      <td>...</td>\n      <td>...</td>\n      <td>...</td>\n      <td>...</td>\n      <td>...</td>\n      <td>...</td>\n      <td>...</td>\n      <td>...</td>\n    </tr>\n    <tr>\n      <th>21535</th>\n      <td>176507</td>\n      <td>0.000012</td>\n      <td>2.879720e-07</td>\n      <td>0.000000</td>\n      <td>5.628240e-07</td>\n      <td>1</td>\n      <td>0</td>\n      <td>1</td>\n      <td>NaN</td>\n      <td>NaN</td>\n    </tr>\n    <tr>\n      <th>21536</th>\n      <td>80731</td>\n      <td>0.000012</td>\n      <td>2.879720e-07</td>\n      <td>0.000000</td>\n      <td>5.628240e-07</td>\n      <td>1</td>\n      <td>0</td>\n      <td>1</td>\n      <td>NaN</td>\n      <td>NaN</td>\n    </tr>\n    <tr>\n      <th>21537</th>\n      <td>199920</td>\n      <td>0.000012</td>\n      <td>2.879720e-07</td>\n      <td>0.000000</td>\n      <td>5.628240e-07</td>\n      <td>1</td>\n      <td>0</td>\n      <td>1</td>\n      <td>NaN</td>\n      <td>NaN</td>\n    </tr>\n    <tr>\n      <th>21538</th>\n      <td>18452</td>\n      <td>0.000012</td>\n      <td>2.879720e-07</td>\n      <td>0.000000</td>\n      <td>5.628240e-07</td>\n      <td>1</td>\n      <td>0</td>\n      <td>1</td>\n      <td>NaN</td>\n      <td>NaN</td>\n    </tr>\n    <tr>\n      <th>21539</th>\n      <td>18744</td>\n      <td>0.000012</td>\n      <td>2.879720e-07</td>\n      <td>0.000000</td>\n      <td>5.628240e-07</td>\n      <td>1</td>\n      <td>0</td>\n      <td>1</td>\n      <td>NaN</td>\n      <td>NaN</td>\n    </tr>\n  </tbody>\n</table>\n<p>21540 rows × 10 columns</p>\n</div>"
     },
     "execution_count": 317,
     "metadata": {},
     "output_type": "execute_result"
    }
   ],
   "source": [
    "ts_df"
   ],
   "metadata": {
    "collapsed": false,
    "pycharm": {
     "name": "#%%\n"
    }
   }
  },
  {
   "cell_type": "code",
   "execution_count": 318,
   "outputs": [
    {
     "data": {
      "text/plain": "            Node        PR  Degree  In-degree  Out-degree\n166          351  0.012151    2130       1984         146\n1119      375791  0.002411     566        518          48\n947       440295  0.002287     212        209           3\n3963      388677  0.002063     371        359          12\n121       386682  0.001898     476        449          27\n...          ...       ...     ...        ...         ...\n19911      23574  0.000012       2          0           2\n15623      19211  0.000012      12          0          12\n15617     856859  0.000012       3          0           3\n15612      51301  0.000012       4          0           4\n0      Gene ID 1  0.000012       1          0           1\n\n[21540 rows x 5 columns]",
      "text/html": "<div>\n<style scoped>\n    .dataframe tbody tr th:only-of-type {\n        vertical-align: middle;\n    }\n\n    .dataframe tbody tr th {\n        vertical-align: top;\n    }\n\n    .dataframe thead th {\n        text-align: right;\n    }\n</style>\n<table border=\"1\" class=\"dataframe\">\n  <thead>\n    <tr style=\"text-align: right;\">\n      <th></th>\n      <th>Node</th>\n      <th>PR</th>\n      <th>Degree</th>\n      <th>In-degree</th>\n      <th>Out-degree</th>\n    </tr>\n  </thead>\n  <tbody>\n    <tr>\n      <th>166</th>\n      <td>351</td>\n      <td>0.012151</td>\n      <td>2130</td>\n      <td>1984</td>\n      <td>146</td>\n    </tr>\n    <tr>\n      <th>1119</th>\n      <td>375791</td>\n      <td>0.002411</td>\n      <td>566</td>\n      <td>518</td>\n      <td>48</td>\n    </tr>\n    <tr>\n      <th>947</th>\n      <td>440295</td>\n      <td>0.002287</td>\n      <td>212</td>\n      <td>209</td>\n      <td>3</td>\n    </tr>\n    <tr>\n      <th>3963</th>\n      <td>388677</td>\n      <td>0.002063</td>\n      <td>371</td>\n      <td>359</td>\n      <td>12</td>\n    </tr>\n    <tr>\n      <th>121</th>\n      <td>386682</td>\n      <td>0.001898</td>\n      <td>476</td>\n      <td>449</td>\n      <td>27</td>\n    </tr>\n    <tr>\n      <th>...</th>\n      <td>...</td>\n      <td>...</td>\n      <td>...</td>\n      <td>...</td>\n      <td>...</td>\n    </tr>\n    <tr>\n      <th>19911</th>\n      <td>23574</td>\n      <td>0.000012</td>\n      <td>2</td>\n      <td>0</td>\n      <td>2</td>\n    </tr>\n    <tr>\n      <th>15623</th>\n      <td>19211</td>\n      <td>0.000012</td>\n      <td>12</td>\n      <td>0</td>\n      <td>12</td>\n    </tr>\n    <tr>\n      <th>15617</th>\n      <td>856859</td>\n      <td>0.000012</td>\n      <td>3</td>\n      <td>0</td>\n      <td>3</td>\n    </tr>\n    <tr>\n      <th>15612</th>\n      <td>51301</td>\n      <td>0.000012</td>\n      <td>4</td>\n      <td>0</td>\n      <td>4</td>\n    </tr>\n    <tr>\n      <th>0</th>\n      <td>Gene ID 1</td>\n      <td>0.000012</td>\n      <td>1</td>\n      <td>0</td>\n      <td>1</td>\n    </tr>\n  </tbody>\n</table>\n<p>21540 rows × 5 columns</p>\n</div>"
     },
     "execution_count": 318,
     "metadata": {},
     "output_type": "execute_result"
    }
   ],
   "source": [
    "basic_df"
   ],
   "metadata": {
    "collapsed": false,
    "pycharm": {
     "name": "#%%\n"
    }
   }
  },
  {
   "cell_type": "markdown",
   "source": [
    "### Evaluating the similarity / difference between the two ranking outcomes using Kendall tau\n",
    "(from scratch)"
   ],
   "metadata": {
    "collapsed": false,
    "pycharm": {
     "name": "#%% md\n"
    }
   }
  },
  {
   "cell_type": "code",
   "execution_count": 64,
   "outputs": [],
   "source": [
    "import numpy as np\n",
    "\n",
    "basic_nodes = basic_df[\"Node\"].to_numpy()\n",
    "ts_nodes= ts_df[\"Node\"].to_numpy()"
   ],
   "metadata": {
    "collapsed": false,
    "pycharm": {
     "name": "#%%\n"
    }
   }
  },
  {
   "cell_type": "code",
   "execution_count": 306,
   "outputs": [
    {
     "data": {
      "text/plain": "4753.0"
     },
     "execution_count": 306,
     "metadata": {},
     "output_type": "execute_result"
    }
   ],
   "source": [
    "bi_co = (len(ts_nodes)*(len(ts_nodes)-1))*0.5\n",
    "bi_co"
   ],
   "metadata": {
    "collapsed": false,
    "pycharm": {
     "name": "#%%\n"
    }
   }
  },
  {
   "cell_type": "code",
   "execution_count": 307,
   "outputs": [],
   "source": [
    "c_pairs=[]\n",
    "for xi, v1 in enumerate(basic_nodes):\n",
    "    for yi, v2 in enumerate(ts_nodes):\n",
    "        if v1==v2:\n",
    "            for xj, v3 in enumerate(basic_nodes):\n",
    "                if xi<xj and v3!=v1:\n",
    "                    for yj, v4 in enumerate(ts_nodes):\n",
    "                        if v3==v4 and yi<yj:\n",
    "                            c_pairs.append([v1,v3])"
   ],
   "metadata": {
    "collapsed": false,
    "pycharm": {
     "name": "#%%\n"
    }
   }
  },
  {
   "cell_type": "code",
   "execution_count": 308,
   "outputs": [],
   "source": [
    "arr_c_pairs=np.array(c_pairs)\n",
    "c_pairs_freq=len(arr_c_pairs)\n",
    "d_pairs_freq=bi_co-c_pairs_freq"
   ],
   "metadata": {
    "collapsed": false,
    "pycharm": {
     "name": "#%%\n"
    }
   }
  },
  {
   "cell_type": "code",
   "execution_count": 309,
   "outputs": [],
   "source": [
    "tau=(c_pairs_freq-d_pairs_freq)/bi_co"
   ],
   "metadata": {
    "collapsed": false,
    "pycharm": {
     "name": "#%%\n"
    }
   }
  },
  {
   "cell_type": "code",
   "execution_count": 310,
   "outputs": [
    {
     "data": {
      "text/plain": "0.5644855880496529"
     },
     "execution_count": 310,
     "metadata": {},
     "output_type": "execute_result"
    }
   ],
   "source": [
    "tau"
   ],
   "metadata": {
    "collapsed": false,
    "pycharm": {
     "name": "#%%\n"
    }
   }
  },
  {
   "cell_type": "code",
   "execution_count": 327,
   "outputs": [
    {
     "data": {
      "text/plain": "<Figure size 4000x800 with 1 Axes>",
      "image/png": "[encoded data removed]"
     },
     "metadata": {
      "needs_background": "light"
     },
     "output_type": "display_data"
    }
   ],
   "source": [
    "import matplotlib.pyplot as plt\n",
    "import numpy as np\n",
    "from matplotlib.pyplot import figure\n",
    "\n",
    "figure(figsize=(50, 10), dpi=80)\n",
    "\n",
    "nodes=np.c_[ts_nodes, basic_nodes]\n",
    "\n",
    "plt.imshow(nodes, cmap='hot', interpolation='nearest')\n",
    "plt.show()"
   ],
   "metadata": {
    "collapsed": false,
    "pycharm": {
     "name": "#%%\n"
    }
   }
  },
  {
   "cell_type": "markdown",
   "source": [
    "## statistical descriptive comparison of outcomes"
   ],
   "metadata": {
    "collapsed": false,
    "pycharm": {
     "name": "#%% md\n"
    }
   }
  },
  {
   "cell_type": "code",
   "execution_count": 335,
   "outputs": [
    {
     "data": {
      "text/plain": "count    1000.000000\nmean       15.221000\nstd        28.495406\nmin         1.000000\n25%         2.000000\n50%         6.000000\n75%        16.000000\nmax       371.000000\nName: Degree, dtype: float64"
     },
     "execution_count": 335,
     "metadata": {},
     "output_type": "execute_result"
    }
   ],
   "source": [
    "top_basic_df=basic_df[:1000]\n",
    "top_ts_df=ts_df[:1000]\n",
    "top_ts_df['Degree'].describe()"
   ],
   "metadata": {
    "collapsed": false,
    "pycharm": {
     "name": "#%%\n"
    }
   }
  },
  {
   "cell_type": "code",
   "execution_count": 336,
   "outputs": [
    {
     "data": {
      "text/plain": "count    1000.000000\nmean      204.219000\nstd       168.377594\nmin         2.000000\n25%       102.000000\n50%       164.500000\n75%       264.000000\nmax      2130.000000\nName: Degree, dtype: float64"
     },
     "execution_count": 336,
     "metadata": {},
     "output_type": "execute_result"
    }
   ],
   "source": [
    "top_basic_df['Degree'].describe()"
   ],
   "metadata": {
    "collapsed": false,
    "pycharm": {
     "name": "#%%\n"
    }
   }
  },
  {
   "cell_type": "markdown",
   "source": [
    "## Graphical visualization of result"
   ],
   "metadata": {
    "collapsed": false,
    "pycharm": {
     "name": "#%% md\n"
    }
   }
  },
  {
   "cell_type": "code",
   "execution_count": 85,
   "outputs": [],
   "source": [
    "import networkx as nx\n",
    "\n",
    "basic_graph = nx.DiGraph()\n",
    "ts_graph = nx.DiGraph()\n",
    "graph = nx.DiGraph()\n",
    "g_in = {}\n",
    "g_out = {}\n",
    "g_inout = {}\n",
    "degrees = {'in': 0, 'out': 0, 'inout': 0}\n",
    "alpha=0.85\n",
    "\n",
    "basic_pr=[]\n",
    "file = open('bio-pathways-network.csv', 'r')\n",
    "for row in file.readlines()[1:]:\n",
    "    node1, node2 = row.strip().split(\",\")\n",
    "    if node1 != node2:\n",
    "        graph.add_edge(node1, node2)\n",
    "    for nodeb in basic_df[:10].iterrows():\n",
    "        if node1 == str(nodeb):\n",
    "            basic_graph.add_edge(node1, node2)\n",
    "\n",
    "    for nodet in ts_nodes[:10]:\n",
    "        if node1 == str(nodet):\n",
    "            ts_graph.add_edge(node1, node2)\n",
    "file.close()"
   ],
   "metadata": {
    "collapsed": false,
    "pycharm": {
     "name": "#%%\n"
    }
   }
  },
  {
   "cell_type": "code",
   "execution_count": 14,
   "outputs": [
    {
     "data": {
      "text/plain": "<Figure size 432x288 with 1 Axes>",
      "image/png": "[encoded data removed]"
     },
     "metadata": {},
     "output_type": "display_data"
    }
   ],
   "source": [
    "import matplotlib.pyplot as plt\n",
    "subplt1 = plt.subplot()\n",
    "options = {'node_color': 'black','node_size': 100, 'width': 3,}\n",
    "nx.draw(ts_graph, **options, with_labels=True)\n",
    "plt.savefig(\"basic_graph.png\")"
   ],
   "metadata": {
    "collapsed": false,
    "pycharm": {
     "name": "#%%\n"
    }
   }
  },
  {
   "cell_type": "markdown",
   "source": [
    "Source: https://towardsdatascience.com/visualizing-protein-networks-in-python-58a9b51be9d5"
   ],
   "metadata": {
    "collapsed": false,
    "pycharm": {
     "name": "#%% md\n"
    }
   }
  },
  {
   "cell_type": "code",
   "execution_count": 20,
   "outputs": [],
   "source": [
    "from matplotlib import cm\n",
    "# function to rescale list of values to range [newmin,newmax]\n",
    "def rescale(l,newmin,newmax):\n",
    "    arr = list(l)\n",
    "    return [(x-min(arr))/(max(arr)-min(arr))*(newmax-newmin)+newmin for x in arr]\n",
    "\n",
    "# use the matplotlib plasma colormap\n",
    "graph_colormap = cm.get_cmap('plasma', 12)\n",
    "# node color varies with Degree\n",
    "c = rescale([basic_graph.degree(v) for v in basic_graph],0.0,0.9)\n",
    "c = [graph_colormap(i) for i in c]\n",
    "# node size varies with betweeness centrality - map to range [10,100]\n",
    "\n",
    "basic_pr=basic_df['PR']\n",
    "s =  rescale([v for v in basic_pr[:10]],1500,7000)\n"
   ],
   "metadata": {
    "collapsed": false,
    "pycharm": {
     "name": "#%%\n"
    }
   }
  },
  {
   "cell_type": "code",
   "execution_count": 21,
   "outputs": [
    {
     "ename": "ValueError",
     "evalue": "s must be a scalar, or float array-like with the same size as x and y",
     "output_type": "error",
     "traceback": [
      "\u001B[0;31m---------------------------------------------------------------------------\u001B[0m",
      "\u001B[0;31mValueError\u001B[0m                                Traceback (most recent call last)",
      "Input \u001B[0;32mIn [21]\u001B[0m, in \u001B[0;36m<cell line: 3>\u001B[0;34m()\u001B[0m\n\u001B[1;32m      1\u001B[0m pos \u001B[38;5;241m=\u001B[39m nx\u001B[38;5;241m.\u001B[39mspring_layout(basic_graph)\n\u001B[1;32m      2\u001B[0m plt\u001B[38;5;241m.\u001B[39mfigure(figsize\u001B[38;5;241m=\u001B[39m(\u001B[38;5;241m19\u001B[39m,\u001B[38;5;241m9\u001B[39m),facecolor\u001B[38;5;241m=\u001B[39m[\u001B[38;5;241m0.7\u001B[39m,\u001B[38;5;241m0.7\u001B[39m,\u001B[38;5;241m0.7\u001B[39m,\u001B[38;5;241m0.4\u001B[39m])\n\u001B[0;32m----> 3\u001B[0m \u001B[43mnx\u001B[49m\u001B[38;5;241;43m.\u001B[39;49m\u001B[43mdraw_networkx\u001B[49m\u001B[43m(\u001B[49m\u001B[43mbasic_graph\u001B[49m\u001B[43m,\u001B[49m\u001B[43m \u001B[49m\u001B[43mpos\u001B[49m\u001B[38;5;241;43m=\u001B[39;49m\u001B[43mpos\u001B[49m\u001B[43m,\u001B[49m\u001B[43m \u001B[49m\u001B[43mwith_labels\u001B[49m\u001B[38;5;241;43m=\u001B[39;49m\u001B[38;5;28;43;01mTrue\u001B[39;49;00m\u001B[43m,\u001B[49m\u001B[43m \u001B[49m\u001B[43mnode_color\u001B[49m\u001B[38;5;241;43m=\u001B[39;49m\u001B[43mc\u001B[49m\u001B[43m,\u001B[49m\u001B[43m \u001B[49m\u001B[43mnode_size\u001B[49m\u001B[38;5;241;43m=\u001B[39;49m\u001B[43ms\u001B[49m\u001B[43m,\u001B[49m\n\u001B[1;32m      4\u001B[0m \u001B[43m                 \u001B[49m\u001B[43mfont_color\u001B[49m\u001B[38;5;241;43m=\u001B[39;49m\u001B[38;5;124;43m'\u001B[39;49m\u001B[38;5;124;43mwhite\u001B[39;49m\u001B[38;5;124;43m'\u001B[39;49m\u001B[43m,\u001B[49m\u001B[43mfont_weight\u001B[49m\u001B[38;5;241;43m=\u001B[39;49m\u001B[38;5;124;43m'\u001B[39;49m\u001B[38;5;124;43mbold\u001B[39;49m\u001B[38;5;124;43m'\u001B[39;49m\u001B[43m,\u001B[49m\u001B[43mfont_size\u001B[49m\u001B[38;5;241;43m=\u001B[39;49m\u001B[38;5;124;43m'\u001B[39;49m\u001B[38;5;124;43m9\u001B[39;49m\u001B[38;5;124;43m'\u001B[39;49m\u001B[43m)\u001B[49m\n\u001B[1;32m      5\u001B[0m plt\u001B[38;5;241m.\u001B[39maxis(\u001B[38;5;124m'\u001B[39m\u001B[38;5;124moff\u001B[39m\u001B[38;5;124m'\u001B[39m)\n\u001B[1;32m      6\u001B[0m plt\u001B[38;5;241m.\u001B[39mshow()\n",
      "File \u001B[0;32m~/OneDrive - Johann Wolfgang Goethe Universität/Semester 5/DS 1/LinkAnalysis/New_PRenv/lib/python3.10/site-packages/networkx/drawing/nx_pylab.py:303\u001B[0m, in \u001B[0;36mdraw_networkx\u001B[0;34m(G, pos, arrows, with_labels, **kwds)\u001B[0m\n\u001B[1;32m    300\u001B[0m \u001B[38;5;28;01mif\u001B[39;00m pos \u001B[38;5;129;01mis\u001B[39;00m \u001B[38;5;28;01mNone\u001B[39;00m:\n\u001B[1;32m    301\u001B[0m     pos \u001B[38;5;241m=\u001B[39m nx\u001B[38;5;241m.\u001B[39mdrawing\u001B[38;5;241m.\u001B[39mspring_layout(G)  \u001B[38;5;66;03m# default to spring layout\u001B[39;00m\n\u001B[0;32m--> 303\u001B[0m \u001B[43mdraw_networkx_nodes\u001B[49m\u001B[43m(\u001B[49m\u001B[43mG\u001B[49m\u001B[43m,\u001B[49m\u001B[43m \u001B[49m\u001B[43mpos\u001B[49m\u001B[43m,\u001B[49m\u001B[43m \u001B[49m\u001B[38;5;241;43m*\u001B[39;49m\u001B[38;5;241;43m*\u001B[39;49m\u001B[43mnode_kwds\u001B[49m\u001B[43m)\u001B[49m\n\u001B[1;32m    304\u001B[0m draw_networkx_edges(G, pos, arrows\u001B[38;5;241m=\u001B[39marrows, \u001B[38;5;241m*\u001B[39m\u001B[38;5;241m*\u001B[39medge_kwds)\n\u001B[1;32m    305\u001B[0m \u001B[38;5;28;01mif\u001B[39;00m with_labels:\n",
      "File \u001B[0;32m~/OneDrive - Johann Wolfgang Goethe Universität/Semester 5/DS 1/LinkAnalysis/New_PRenv/lib/python3.10/site-packages/networkx/drawing/nx_pylab.py:433\u001B[0m, in \u001B[0;36mdraw_networkx_nodes\u001B[0;34m(G, pos, nodelist, node_size, node_color, node_shape, alpha, cmap, vmin, vmax, ax, linewidths, edgecolors, label, margins)\u001B[0m\n\u001B[1;32m    430\u001B[0m     node_color \u001B[38;5;241m=\u001B[39m apply_alpha(node_color, alpha, nodelist, cmap, vmin, vmax)\n\u001B[1;32m    431\u001B[0m     alpha \u001B[38;5;241m=\u001B[39m \u001B[38;5;28;01mNone\u001B[39;00m\n\u001B[0;32m--> 433\u001B[0m node_collection \u001B[38;5;241m=\u001B[39m \u001B[43max\u001B[49m\u001B[38;5;241;43m.\u001B[39;49m\u001B[43mscatter\u001B[49m\u001B[43m(\u001B[49m\n\u001B[1;32m    434\u001B[0m \u001B[43m    \u001B[49m\u001B[43mxy\u001B[49m\u001B[43m[\u001B[49m\u001B[43m:\u001B[49m\u001B[43m,\u001B[49m\u001B[43m \u001B[49m\u001B[38;5;241;43m0\u001B[39;49m\u001B[43m]\u001B[49m\u001B[43m,\u001B[49m\n\u001B[1;32m    435\u001B[0m \u001B[43m    \u001B[49m\u001B[43mxy\u001B[49m\u001B[43m[\u001B[49m\u001B[43m:\u001B[49m\u001B[43m,\u001B[49m\u001B[43m \u001B[49m\u001B[38;5;241;43m1\u001B[39;49m\u001B[43m]\u001B[49m\u001B[43m,\u001B[49m\n\u001B[1;32m    436\u001B[0m \u001B[43m    \u001B[49m\u001B[43ms\u001B[49m\u001B[38;5;241;43m=\u001B[39;49m\u001B[43mnode_size\u001B[49m\u001B[43m,\u001B[49m\n\u001B[1;32m    437\u001B[0m \u001B[43m    \u001B[49m\u001B[43mc\u001B[49m\u001B[38;5;241;43m=\u001B[39;49m\u001B[43mnode_color\u001B[49m\u001B[43m,\u001B[49m\n\u001B[1;32m    438\u001B[0m \u001B[43m    \u001B[49m\u001B[43mmarker\u001B[49m\u001B[38;5;241;43m=\u001B[39;49m\u001B[43mnode_shape\u001B[49m\u001B[43m,\u001B[49m\n\u001B[1;32m    439\u001B[0m \u001B[43m    \u001B[49m\u001B[43mcmap\u001B[49m\u001B[38;5;241;43m=\u001B[39;49m\u001B[43mcmap\u001B[49m\u001B[43m,\u001B[49m\n\u001B[1;32m    440\u001B[0m \u001B[43m    \u001B[49m\u001B[43mvmin\u001B[49m\u001B[38;5;241;43m=\u001B[39;49m\u001B[43mvmin\u001B[49m\u001B[43m,\u001B[49m\n\u001B[1;32m    441\u001B[0m \u001B[43m    \u001B[49m\u001B[43mvmax\u001B[49m\u001B[38;5;241;43m=\u001B[39;49m\u001B[43mvmax\u001B[49m\u001B[43m,\u001B[49m\n\u001B[1;32m    442\u001B[0m \u001B[43m    \u001B[49m\u001B[43malpha\u001B[49m\u001B[38;5;241;43m=\u001B[39;49m\u001B[43malpha\u001B[49m\u001B[43m,\u001B[49m\n\u001B[1;32m    443\u001B[0m \u001B[43m    \u001B[49m\u001B[43mlinewidths\u001B[49m\u001B[38;5;241;43m=\u001B[39;49m\u001B[43mlinewidths\u001B[49m\u001B[43m,\u001B[49m\n\u001B[1;32m    444\u001B[0m \u001B[43m    \u001B[49m\u001B[43medgecolors\u001B[49m\u001B[38;5;241;43m=\u001B[39;49m\u001B[43medgecolors\u001B[49m\u001B[43m,\u001B[49m\n\u001B[1;32m    445\u001B[0m \u001B[43m    \u001B[49m\u001B[43mlabel\u001B[49m\u001B[38;5;241;43m=\u001B[39;49m\u001B[43mlabel\u001B[49m\u001B[43m,\u001B[49m\n\u001B[1;32m    446\u001B[0m \u001B[43m\u001B[49m\u001B[43m)\u001B[49m\n\u001B[1;32m    447\u001B[0m ax\u001B[38;5;241m.\u001B[39mtick_params(\n\u001B[1;32m    448\u001B[0m     axis\u001B[38;5;241m=\u001B[39m\u001B[38;5;124m\"\u001B[39m\u001B[38;5;124mboth\u001B[39m\u001B[38;5;124m\"\u001B[39m,\n\u001B[1;32m    449\u001B[0m     which\u001B[38;5;241m=\u001B[39m\u001B[38;5;124m\"\u001B[39m\u001B[38;5;124mboth\u001B[39m\u001B[38;5;124m\"\u001B[39m,\n\u001B[0;32m   (...)\u001B[0m\n\u001B[1;32m    453\u001B[0m     labelleft\u001B[38;5;241m=\u001B[39m\u001B[38;5;28;01mFalse\u001B[39;00m,\n\u001B[1;32m    454\u001B[0m )\n\u001B[1;32m    456\u001B[0m \u001B[38;5;28;01mif\u001B[39;00m margins \u001B[38;5;129;01mis\u001B[39;00m \u001B[38;5;129;01mnot\u001B[39;00m \u001B[38;5;28;01mNone\u001B[39;00m:\n",
      "File \u001B[0;32m~/OneDrive - Johann Wolfgang Goethe Universität/Semester 5/DS 1/LinkAnalysis/New_PRenv/lib/python3.10/site-packages/matplotlib/__init__.py:1412\u001B[0m, in \u001B[0;36m_preprocess_data.<locals>.inner\u001B[0;34m(ax, data, *args, **kwargs)\u001B[0m\n\u001B[1;32m   1409\u001B[0m \u001B[38;5;129m@functools\u001B[39m\u001B[38;5;241m.\u001B[39mwraps(func)\n\u001B[1;32m   1410\u001B[0m \u001B[38;5;28;01mdef\u001B[39;00m \u001B[38;5;21minner\u001B[39m(ax, \u001B[38;5;241m*\u001B[39margs, data\u001B[38;5;241m=\u001B[39m\u001B[38;5;28;01mNone\u001B[39;00m, \u001B[38;5;241m*\u001B[39m\u001B[38;5;241m*\u001B[39mkwargs):\n\u001B[1;32m   1411\u001B[0m     \u001B[38;5;28;01mif\u001B[39;00m data \u001B[38;5;129;01mis\u001B[39;00m \u001B[38;5;28;01mNone\u001B[39;00m:\n\u001B[0;32m-> 1412\u001B[0m         \u001B[38;5;28;01mreturn\u001B[39;00m \u001B[43mfunc\u001B[49m\u001B[43m(\u001B[49m\u001B[43max\u001B[49m\u001B[43m,\u001B[49m\u001B[43m \u001B[49m\u001B[38;5;241;43m*\u001B[39;49m\u001B[38;5;28;43mmap\u001B[39;49m\u001B[43m(\u001B[49m\u001B[43msanitize_sequence\u001B[49m\u001B[43m,\u001B[49m\u001B[43m \u001B[49m\u001B[43margs\u001B[49m\u001B[43m)\u001B[49m\u001B[43m,\u001B[49m\u001B[43m \u001B[49m\u001B[38;5;241;43m*\u001B[39;49m\u001B[38;5;241;43m*\u001B[39;49m\u001B[43mkwargs\u001B[49m\u001B[43m)\u001B[49m\n\u001B[1;32m   1414\u001B[0m     bound \u001B[38;5;241m=\u001B[39m new_sig\u001B[38;5;241m.\u001B[39mbind(ax, \u001B[38;5;241m*\u001B[39margs, \u001B[38;5;241m*\u001B[39m\u001B[38;5;241m*\u001B[39mkwargs)\n\u001B[1;32m   1415\u001B[0m     auto_label \u001B[38;5;241m=\u001B[39m (bound\u001B[38;5;241m.\u001B[39marguments\u001B[38;5;241m.\u001B[39mget(label_namer)\n\u001B[1;32m   1416\u001B[0m                   \u001B[38;5;129;01mor\u001B[39;00m bound\u001B[38;5;241m.\u001B[39mkwargs\u001B[38;5;241m.\u001B[39mget(label_namer))\n",
      "File \u001B[0;32m~/OneDrive - Johann Wolfgang Goethe Universität/Semester 5/DS 1/LinkAnalysis/New_PRenv/lib/python3.10/site-packages/matplotlib/axes/_axes.py:4371\u001B[0m, in \u001B[0;36mAxes.scatter\u001B[0;34m(self, x, y, s, c, marker, cmap, norm, vmin, vmax, alpha, linewidths, edgecolors, plotnonfinite, **kwargs)\u001B[0m\n\u001B[1;32m   4367\u001B[0m s \u001B[38;5;241m=\u001B[39m np\u001B[38;5;241m.\u001B[39mma\u001B[38;5;241m.\u001B[39mravel(s)\n\u001B[1;32m   4368\u001B[0m \u001B[38;5;28;01mif\u001B[39;00m (\u001B[38;5;28mlen\u001B[39m(s) \u001B[38;5;129;01mnot\u001B[39;00m \u001B[38;5;129;01min\u001B[39;00m (\u001B[38;5;241m1\u001B[39m, x\u001B[38;5;241m.\u001B[39msize) \u001B[38;5;129;01mor\u001B[39;00m\n\u001B[1;32m   4369\u001B[0m         (\u001B[38;5;129;01mnot\u001B[39;00m np\u001B[38;5;241m.\u001B[39missubdtype(s\u001B[38;5;241m.\u001B[39mdtype, np\u001B[38;5;241m.\u001B[39mfloating) \u001B[38;5;129;01mand\u001B[39;00m\n\u001B[1;32m   4370\u001B[0m          \u001B[38;5;129;01mnot\u001B[39;00m np\u001B[38;5;241m.\u001B[39missubdtype(s\u001B[38;5;241m.\u001B[39mdtype, np\u001B[38;5;241m.\u001B[39minteger))):\n\u001B[0;32m-> 4371\u001B[0m     \u001B[38;5;28;01mraise\u001B[39;00m \u001B[38;5;167;01mValueError\u001B[39;00m(\n\u001B[1;32m   4372\u001B[0m         \u001B[38;5;124m\"\u001B[39m\u001B[38;5;124ms must be a scalar, \u001B[39m\u001B[38;5;124m\"\u001B[39m\n\u001B[1;32m   4373\u001B[0m         \u001B[38;5;124m\"\u001B[39m\u001B[38;5;124mor float array-like with the same size as x and y\u001B[39m\u001B[38;5;124m\"\u001B[39m)\n\u001B[1;32m   4375\u001B[0m \u001B[38;5;66;03m# get the original edgecolor the user passed before we normalize\u001B[39;00m\n\u001B[1;32m   4376\u001B[0m orig_edgecolor \u001B[38;5;241m=\u001B[39m edgecolors\n",
      "\u001B[0;31mValueError\u001B[0m: s must be a scalar, or float array-like with the same size as x and y"
     ]
    },
    {
     "data": {
      "text/plain": "<Figure size 1368x648 with 1 Axes>",
      "image/png": "[encoded data removed]"
     },
     "metadata": {
      "needs_background": "light"
     },
     "output_type": "display_data"
    }
   ],
   "source": [
    "pos = nx.spring_layout(basic_graph)\n",
    "plt.figure(figsize=(19,9),facecolor=[0.7,0.7,0.7,0.4])\n",
    "nx.draw_networkx(basic_graph, pos=pos, with_labels=True, node_color=c, node_size=s,\n",
    "                 font_color='white',font_weight='bold',font_size='9')\n",
    "plt.axis('off')\n",
    "plt.show()"
   ],
   "metadata": {
    "collapsed": false,
    "pycharm": {
     "name": "#%%\n"
    }
   }
  }
 ],
 "metadata": {
  "kernelspec": {
   "display_name": "Python 3",
   "language": "python",
   "name": "python3"
  },
  "language_info": {
   "codemirror_mode": {
    "name": "ipython",
    "version": 2
   },
   "file_extension": ".py",
   "mimetype": "text/x-python",
   "name": "python",
   "nbconvert_exporter": "python",
   "pygments_lexer": "ipython2",
   "version": "2.7.6"
  }
 },
 "nbformat": 4,
 "nbformat_minor": 0
}
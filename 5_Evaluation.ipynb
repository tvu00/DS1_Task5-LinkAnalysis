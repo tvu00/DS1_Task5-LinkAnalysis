{
 "cells": [
  {
   "cell_type": "markdown",
   "source": [
    "## Task 5: 5) Implementation of Evaluation\n",
    " Implement an evaluation module that compares the outcomes of the two PageRank algorithms with respect to differences in the obtained ranks. Report on the implementation (1 slide)."
   ],
   "metadata": {
    "collapsed": false,
    "pycharm": {
     "name": "#%% md\n"
    }
   }
  },
  {
   "cell_type": "markdown",
   "source": [
    "### Preparing the outcomes of the algorithm"
   ],
   "metadata": {
    "collapsed": false,
    "pycharm": {
     "name": "#%% md\n"
    }
   }
  },
  {
   "cell_type": "code",
   "execution_count": 3,
   "outputs": [],
   "source": [
    "import pandas as pd\n",
    "# read the outcome files in\n",
    "ts_df = pd.read_csv('TopicSpecPageRank.csv', delimiter='\\t')"
   ],
   "metadata": {
    "collapsed": false,
    "pycharm": {
     "name": "#%%\n"
    }
   }
  },
  {
   "cell_type": "code",
   "execution_count": 4,
   "outputs": [],
   "source": [
    "basic_df = pd.read_csv('BasicPageRank.csv', delimiter='\\t')"
   ],
   "metadata": {
    "collapsed": false,
    "pycharm": {
     "name": "#%%\n"
    }
   }
  },
  {
   "cell_type": "code",
   "execution_count": 5,
   "outputs": [],
   "source": [
    "ts_df=ts_df.rename(columns={\"PPR in/in-degree\": \"rPPR\"})\n",
    "ts_df=ts_df.sort_values(by='rPPR', ascending=False)\n",
    "basic_df=basic_df.sort_values(by='PR', ascending=False)"
   ],
   "metadata": {
    "collapsed": false,
    "pycharm": {
     "name": "#%%\n"
    }
   }
  },
  {
   "cell_type": "code",
   "execution_count": 6,
   "outputs": [
    {
     "data": {
      "text/plain": "         Node        PR     PPR InOut    PPR In       PPR Out  Degree  \\\n54     653820  0.000675  6.982866e-04  0.000780  6.194374e-04       2   \n2024   373863  0.000104  1.007062e-04  0.000110  9.221020e-05      10   \n1685   439935  0.000118  9.621778e-05  0.000107  8.624325e-05       2   \n778    752014  0.000191  1.820639e-04  0.000204  1.611086e-04       2   \n2009   193034  0.000104  7.686650e-05  0.000085  6.871177e-05       1   \n...       ...       ...           ...       ...           ...     ...   \n21535  176507  0.000012  2.879720e-07  0.000000  5.628240e-07       1   \n21536   80731  0.000012  2.879720e-07  0.000000  5.628240e-07       1   \n21537  199920  0.000012  2.879720e-07  0.000000  5.628240e-07       1   \n21538   18452  0.000012  2.879720e-07  0.000000  5.628240e-07       1   \n21539   18744  0.000012  2.879720e-07  0.000000  5.628240e-07       1   \n\n       In-degree  Out-degree      rPPR  Alpha: 0.85  \n54             2           0  0.000390          NaN  \n2024           1           9  0.000110          NaN  \n1685           1           1  0.000107          NaN  \n778            2           0  0.000102          NaN  \n2009           1           0  0.000085          NaN  \n...          ...         ...       ...          ...  \n21535          0           1       NaN          NaN  \n21536          0           1       NaN          NaN  \n21537          0           1       NaN          NaN  \n21538          0           1       NaN          NaN  \n21539          0           1       NaN          NaN  \n\n[21540 rows x 10 columns]",
      "text/html": "<div>\n<style scoped>\n    .dataframe tbody tr th:only-of-type {\n        vertical-align: middle;\n    }\n\n    .dataframe tbody tr th {\n        vertical-align: top;\n    }\n\n    .dataframe thead th {\n        text-align: right;\n    }\n</style>\n<table border=\"1\" class=\"dataframe\">\n  <thead>\n    <tr style=\"text-align: right;\">\n      <th></th>\n      <th>Node</th>\n      <th>PR</th>\n      <th>PPR InOut</th>\n      <th>PPR In</th>\n      <th>PPR Out</th>\n      <th>Degree</th>\n      <th>In-degree</th>\n      <th>Out-degree</th>\n      <th>rPPR</th>\n      <th>Alpha: 0.85</th>\n    </tr>\n  </thead>\n  <tbody>\n    <tr>\n      <th>54</th>\n      <td>653820</td>\n      <td>0.000675</td>\n      <td>6.982866e-04</td>\n      <td>0.000780</td>\n      <td>6.194374e-04</td>\n      <td>2</td>\n      <td>2</td>\n      <td>0</td>\n      <td>0.000390</td>\n      <td>NaN</td>\n    </tr>\n    <tr>\n      <th>2024</th>\n      <td>373863</td>\n      <td>0.000104</td>\n      <td>1.007062e-04</td>\n      <td>0.000110</td>\n      <td>9.221020e-05</td>\n      <td>10</td>\n      <td>1</td>\n      <td>9</td>\n      <td>0.000110</td>\n      <td>NaN</td>\n    </tr>\n    <tr>\n      <th>1685</th>\n      <td>439935</td>\n      <td>0.000118</td>\n      <td>9.621778e-05</td>\n      <td>0.000107</td>\n      <td>8.624325e-05</td>\n      <td>2</td>\n      <td>1</td>\n      <td>1</td>\n      <td>0.000107</td>\n      <td>NaN</td>\n    </tr>\n    <tr>\n      <th>778</th>\n      <td>752014</td>\n      <td>0.000191</td>\n      <td>1.820639e-04</td>\n      <td>0.000204</td>\n      <td>1.611086e-04</td>\n      <td>2</td>\n      <td>2</td>\n      <td>0</td>\n      <td>0.000102</td>\n      <td>NaN</td>\n    </tr>\n    <tr>\n      <th>2009</th>\n      <td>193034</td>\n      <td>0.000104</td>\n      <td>7.686650e-05</td>\n      <td>0.000085</td>\n      <td>6.871177e-05</td>\n      <td>1</td>\n      <td>1</td>\n      <td>0</td>\n      <td>0.000085</td>\n      <td>NaN</td>\n    </tr>\n    <tr>\n      <th>...</th>\n      <td>...</td>\n      <td>...</td>\n      <td>...</td>\n      <td>...</td>\n      <td>...</td>\n      <td>...</td>\n      <td>...</td>\n      <td>...</td>\n      <td>...</td>\n      <td>...</td>\n    </tr>\n    <tr>\n      <th>21535</th>\n      <td>176507</td>\n      <td>0.000012</td>\n      <td>2.879720e-07</td>\n      <td>0.000000</td>\n      <td>5.628240e-07</td>\n      <td>1</td>\n      <td>0</td>\n      <td>1</td>\n      <td>NaN</td>\n      <td>NaN</td>\n    </tr>\n    <tr>\n      <th>21536</th>\n      <td>80731</td>\n      <td>0.000012</td>\n      <td>2.879720e-07</td>\n      <td>0.000000</td>\n      <td>5.628240e-07</td>\n      <td>1</td>\n      <td>0</td>\n      <td>1</td>\n      <td>NaN</td>\n      <td>NaN</td>\n    </tr>\n    <tr>\n      <th>21537</th>\n      <td>199920</td>\n      <td>0.000012</td>\n      <td>2.879720e-07</td>\n      <td>0.000000</td>\n      <td>5.628240e-07</td>\n      <td>1</td>\n      <td>0</td>\n      <td>1</td>\n      <td>NaN</td>\n      <td>NaN</td>\n    </tr>\n    <tr>\n      <th>21538</th>\n      <td>18452</td>\n      <td>0.000012</td>\n      <td>2.879720e-07</td>\n      <td>0.000000</td>\n      <td>5.628240e-07</td>\n      <td>1</td>\n      <td>0</td>\n      <td>1</td>\n      <td>NaN</td>\n      <td>NaN</td>\n    </tr>\n    <tr>\n      <th>21539</th>\n      <td>18744</td>\n      <td>0.000012</td>\n      <td>2.879720e-07</td>\n      <td>0.000000</td>\n      <td>5.628240e-07</td>\n      <td>1</td>\n      <td>0</td>\n      <td>1</td>\n      <td>NaN</td>\n      <td>NaN</td>\n    </tr>\n  </tbody>\n</table>\n<p>21540 rows × 10 columns</p>\n</div>"
     },
     "execution_count": 6,
     "metadata": {},
     "output_type": "execute_result"
    }
   ],
   "source": [
    "ts_df"
   ],
   "metadata": {
    "collapsed": false,
    "pycharm": {
     "name": "#%%\n"
    }
   }
  },
  {
   "cell_type": "code",
   "execution_count": 7,
   "outputs": [
    {
     "data": {
      "text/plain": "            Node        PR  Degree  In-degree  Out-degree\n166          351  0.012151    2130       1984         146\n1119      375791  0.002411     566        518          48\n947       440295  0.002287     212        209           3\n3963      388677  0.002063     371        359          12\n121       386682  0.001898     476        449          27\n...          ...       ...     ...        ...         ...\n19911      23574  0.000012       2          0           2\n15623      19211  0.000012      12          0          12\n15617     856859  0.000012       3          0           3\n15612      51301  0.000012       4          0           4\n0      Gene ID 1  0.000012       1          0           1\n\n[21540 rows x 5 columns]",
      "text/html": "<div>\n<style scoped>\n    .dataframe tbody tr th:only-of-type {\n        vertical-align: middle;\n    }\n\n    .dataframe tbody tr th {\n        vertical-align: top;\n    }\n\n    .dataframe thead th {\n        text-align: right;\n    }\n</style>\n<table border=\"1\" class=\"dataframe\">\n  <thead>\n    <tr style=\"text-align: right;\">\n      <th></th>\n      <th>Node</th>\n      <th>PR</th>\n      <th>Degree</th>\n      <th>In-degree</th>\n      <th>Out-degree</th>\n    </tr>\n  </thead>\n  <tbody>\n    <tr>\n      <th>166</th>\n      <td>351</td>\n      <td>0.012151</td>\n      <td>2130</td>\n      <td>1984</td>\n      <td>146</td>\n    </tr>\n    <tr>\n      <th>1119</th>\n      <td>375791</td>\n      <td>0.002411</td>\n      <td>566</td>\n      <td>518</td>\n      <td>48</td>\n    </tr>\n    <tr>\n      <th>947</th>\n      <td>440295</td>\n      <td>0.002287</td>\n      <td>212</td>\n      <td>209</td>\n      <td>3</td>\n    </tr>\n    <tr>\n      <th>3963</th>\n      <td>388677</td>\n      <td>0.002063</td>\n      <td>371</td>\n      <td>359</td>\n      <td>12</td>\n    </tr>\n    <tr>\n      <th>121</th>\n      <td>386682</td>\n      <td>0.001898</td>\n      <td>476</td>\n      <td>449</td>\n      <td>27</td>\n    </tr>\n    <tr>\n      <th>...</th>\n      <td>...</td>\n      <td>...</td>\n      <td>...</td>\n      <td>...</td>\n      <td>...</td>\n    </tr>\n    <tr>\n      <th>19911</th>\n      <td>23574</td>\n      <td>0.000012</td>\n      <td>2</td>\n      <td>0</td>\n      <td>2</td>\n    </tr>\n    <tr>\n      <th>15623</th>\n      <td>19211</td>\n      <td>0.000012</td>\n      <td>12</td>\n      <td>0</td>\n      <td>12</td>\n    </tr>\n    <tr>\n      <th>15617</th>\n      <td>856859</td>\n      <td>0.000012</td>\n      <td>3</td>\n      <td>0</td>\n      <td>3</td>\n    </tr>\n    <tr>\n      <th>15612</th>\n      <td>51301</td>\n      <td>0.000012</td>\n      <td>4</td>\n      <td>0</td>\n      <td>4</td>\n    </tr>\n    <tr>\n      <th>0</th>\n      <td>Gene ID 1</td>\n      <td>0.000012</td>\n      <td>1</td>\n      <td>0</td>\n      <td>1</td>\n    </tr>\n  </tbody>\n</table>\n<p>21540 rows × 5 columns</p>\n</div>"
     },
     "execution_count": 7,
     "metadata": {},
     "output_type": "execute_result"
    }
   ],
   "source": [
    "basic_df"
   ],
   "metadata": {
    "collapsed": false,
    "pycharm": {
     "name": "#%%\n"
    }
   }
  },
  {
   "cell_type": "markdown",
   "source": [
    "### Evaluating the similarity / difference between the two ranking outcomes using Kendall tau\n",
    "(from scratch)"
   ],
   "metadata": {
    "collapsed": false,
    "pycharm": {
     "name": "#%% md\n"
    }
   }
  },
  {
   "cell_type": "code",
   "execution_count": 8,
   "outputs": [],
   "source": [
    "import numpy as np\n",
    "\n",
    "basic_nodes = basic_df[\"Node\"].to_numpy()\n",
    "ts_nodes= ts_df[\"Node\"].to_numpy()"
   ],
   "metadata": {
    "collapsed": false,
    "pycharm": {
     "name": "#%%\n"
    }
   }
  },
  {
   "cell_type": "code",
   "execution_count": null,
   "outputs": [],
   "source": [
    "bi_co = (len(ts_nodes)*(len(ts_nodes)-1))*0.5\n",
    "bi_co"
   ],
   "metadata": {
    "collapsed": false,
    "pycharm": {
     "name": "#%%\n"
    }
   }
  },
  {
   "cell_type": "code",
   "execution_count": null,
   "outputs": [],
   "source": [
    "c_pairs=[]\n",
    "for xi, v1 in enumerate(basic_nodes):\n",
    "    for yi, v2 in enumerate(ts_nodes):\n",
    "        if v1==v2:\n",
    "            for xj, v3 in enumerate(basic_nodes):\n",
    "                if xi<xj and v3!=v1:\n",
    "                    for yj, v4 in enumerate(ts_nodes):\n",
    "                        if v3==v4 and yi<yj:\n",
    "                            c_pairs.append([v1,v3])"
   ],
   "metadata": {
    "collapsed": false,
    "pycharm": {
     "name": "#%%\n"
    }
   }
  },
  {
   "cell_type": "code",
   "execution_count": null,
   "outputs": [],
   "source": [
    "arr_c_pairs=np.array(c_pairs)\n",
    "c_pairs_freq=len(arr_c_pairs)\n",
    "d_pairs_freq=bi_co-c_pairs_freq"
   ],
   "metadata": {
    "collapsed": false,
    "pycharm": {
     "name": "#%%\n"
    }
   }
  },
  {
   "cell_type": "code",
   "execution_count": null,
   "outputs": [],
   "source": [
    "tau=(c_pairs_freq-d_pairs_freq)/bi_co"
   ],
   "metadata": {
    "collapsed": false,
    "pycharm": {
     "name": "#%%\n"
    }
   }
  },
  {
   "cell_type": "code",
   "execution_count": null,
   "outputs": [],
   "source": [
    "tau"
   ],
   "metadata": {
    "collapsed": false,
    "pycharm": {
     "name": "#%%\n"
    }
   }
  },
  {
   "cell_type": "code",
   "execution_count": null,
   "outputs": [],
   "source": [
    "import matplotlib.pyplot as plt\n",
    "import numpy as np\n",
    "from matplotlib.pyplot import figure\n",
    "\n",
    "figure(figsize=(50, 10), dpi=80)\n",
    "\n",
    "nodes=np.c_[ts_nodes, basic_nodes]\n",
    "\n",
    "plt.imshow(nodes, cmap='hot', interpolation='nearest')\n",
    "plt.show()"
   ],
   "metadata": {
    "collapsed": false,
    "pycharm": {
     "name": "#%%\n"
    }
   }
  },
  {
   "cell_type": "markdown",
   "source": [
    "## statistical descriptive comparison of outcomes"
   ],
   "metadata": {
    "collapsed": false,
    "pycharm": {
     "name": "#%% md\n"
    }
   }
  },
  {
   "cell_type": "code",
   "execution_count": null,
   "outputs": [],
   "source": [
    "top_basic_df=basic_df[:1000]\n",
    "top_ts_df=ts_df[:1000]\n",
    "top_ts_df['Degree'].describe()"
   ],
   "metadata": {
    "collapsed": false,
    "pycharm": {
     "name": "#%%\n"
    }
   }
  },
  {
   "cell_type": "code",
   "execution_count": null,
   "outputs": [],
   "source": [
    "top_basic_df['Degree'].describe()"
   ],
   "metadata": {
    "collapsed": false,
    "pycharm": {
     "name": "#%%\n"
    }
   }
  },
  {
   "cell_type": "markdown",
   "source": [
    "## Graphical visualization of result"
   ],
   "metadata": {
    "collapsed": false,
    "pycharm": {
     "name": "#%% md\n"
    }
   }
  },
  {
   "cell_type": "code",
   "execution_count": null,
   "outputs": [],
   "source": [
    "import networkx as nx\n",
    "\n",
    "basic_graph = nx.DiGraph()\n",
    "ts_graph = nx.DiGraph()\n",
    "g_in = {}\n",
    "g_out = {}\n",
    "g_inout = {}\n",
    "degrees = {'in': 0, 'out': 0, 'inout': 0}\n",
    "alpha=0.85\n",
    "\n",
    "file = open('bio-pathways-network.csv', 'r')\n",
    "for row in file.readlines()[1:]:\n",
    "    node1, node2 = row.strip().split(\",\")\n",
    "    for node in basic_nodes[:10]:\n",
    "        print(\"Node1\")\n",
    "        print(node1)\n",
    "        print(\"Node\")\n",
    "        print(node)\n",
    "        if node1 == node:\n",
    "            basic_graph.add_edge(node1, node2)\n",
    "            print(node1)\n",
    "    for node in ts_nodes[:10]:\n",
    "        if node1 == node:\n",
    "            ts_graph.add_edge(node1, node2)\n",
    "file.close()"
   ],
   "metadata": {
    "collapsed": false,
    "pycharm": {
     "name": "#%%\n"
    }
   }
  },
  {
   "cell_type": "code",
   "execution_count": null,
   "outputs": [],
   "source": [
    "import matplotlib.pyplot as plt\n",
    "subplt1 = plt.subplot()\n",
    "options = {'node_color': 'black','node_size': 100, 'width': 3,}\n",
    "nx.draw(ts_graph, **options, with_labels=True)\n",
    "plt.savefig(\"basic_graph.png\")"
   ],
   "metadata": {
    "collapsed": false,
    "pycharm": {
     "name": "#%%\n"
    }
   }
  },
  {
   "cell_type": "code",
   "execution_count": null,
   "outputs": [],
   "source": [],
   "metadata": {
    "collapsed": false,
    "pycharm": {
     "name": "#%%\n"
    }
   }
  },
  {
   "cell_type": "markdown",
   "source": [
    "### Preparing the outcomes of the algorithm"
   ],
   "metadata": {
    "collapsed": false,
    "pycharm": {
     "name": "#%% md\n"
    }
   }
  },
  {
   "cell_type": "code",
   "execution_count": 314,
   "metadata": {
    "collapsed": true,
    "pycharm": {
     "name": "#%%\n"
    }
   },
   "outputs": [],
   "source": [
    "import pandas as pd\n",
    "# read the outcome files in\n",
    "ts_df = pd.read_csv('TopicSpecPageRank.csv', delimiter='\\t')"
   ]
  },
  {
   "cell_type": "code",
   "execution_count": 315,
   "outputs": [],
   "source": [
    "basic_df = pd.read_csv('BasicPageRank.csv', delimiter='\\t')"
   ],
   "metadata": {
    "collapsed": false,
    "pycharm": {
     "name": "#%%\n"
    }
   }
  },
  {
   "cell_type": "code",
   "execution_count": 316,
   "outputs": [],
   "source": [
    "ts_df=ts_df.rename(columns={\"PPR in/in-degree\": \"rPPR\"})\n",
    "ts_df=ts_df.sort_values(by='rPPR', ascending=False)\n",
    "basic_df=basic_df.sort_values(by='PR', ascending=False)"
   ],
   "metadata": {
    "collapsed": false,
    "pycharm": {
     "name": "#%%\n"
    }
   }
  },
  {
   "cell_type": "code",
   "execution_count": 317,
   "outputs": [
    {
     "data": {
      "text/plain": "         Node        PR     PPR InOut    PPR In       PPR Out  Degree  \\\n54     653820  0.000675  6.982866e-04  0.000780  6.194374e-04       2   \n2024   373863  0.000104  1.007062e-04  0.000110  9.221020e-05      10   \n1685   439935  0.000118  9.621778e-05  0.000107  8.624325e-05       2   \n778    752014  0.000191  1.820639e-04  0.000204  1.611086e-04       2   \n2009   193034  0.000104  7.686650e-05  0.000085  6.871177e-05       1   \n...       ...       ...           ...       ...           ...     ...   \n21535  176507  0.000012  2.879720e-07  0.000000  5.628240e-07       1   \n21536   80731  0.000012  2.879720e-07  0.000000  5.628240e-07       1   \n21537  199920  0.000012  2.879720e-07  0.000000  5.628240e-07       1   \n21538   18452  0.000012  2.879720e-07  0.000000  5.628240e-07       1   \n21539   18744  0.000012  2.879720e-07  0.000000  5.628240e-07       1   \n\n       In-degree  Out-degree      rPPR  Alpha: 0.85  \n54             2           0  0.000390          NaN  \n2024           1           9  0.000110          NaN  \n1685           1           1  0.000107          NaN  \n778            2           0  0.000102          NaN  \n2009           1           0  0.000085          NaN  \n...          ...         ...       ...          ...  \n21535          0           1       NaN          NaN  \n21536          0           1       NaN          NaN  \n21537          0           1       NaN          NaN  \n21538          0           1       NaN          NaN  \n21539          0           1       NaN          NaN  \n\n[21540 rows x 10 columns]",
      "text/html": "<div>\n<style scoped>\n    .dataframe tbody tr th:only-of-type {\n        vertical-align: middle;\n    }\n\n    .dataframe tbody tr th {\n        vertical-align: top;\n    }\n\n    .dataframe thead th {\n        text-align: right;\n    }\n</style>\n<table border=\"1\" class=\"dataframe\">\n  <thead>\n    <tr style=\"text-align: right;\">\n      <th></th>\n      <th>Node</th>\n      <th>PR</th>\n      <th>PPR InOut</th>\n      <th>PPR In</th>\n      <th>PPR Out</th>\n      <th>Degree</th>\n      <th>In-degree</th>\n      <th>Out-degree</th>\n      <th>rPPR</th>\n      <th>Alpha: 0.85</th>\n    </tr>\n  </thead>\n  <tbody>\n    <tr>\n      <th>54</th>\n      <td>653820</td>\n      <td>0.000675</td>\n      <td>6.982866e-04</td>\n      <td>0.000780</td>\n      <td>6.194374e-04</td>\n      <td>2</td>\n      <td>2</td>\n      <td>0</td>\n      <td>0.000390</td>\n      <td>NaN</td>\n    </tr>\n    <tr>\n      <th>2024</th>\n      <td>373863</td>\n      <td>0.000104</td>\n      <td>1.007062e-04</td>\n      <td>0.000110</td>\n      <td>9.221020e-05</td>\n      <td>10</td>\n      <td>1</td>\n      <td>9</td>\n      <td>0.000110</td>\n      <td>NaN</td>\n    </tr>\n    <tr>\n      <th>1685</th>\n      <td>439935</td>\n      <td>0.000118</td>\n      <td>9.621778e-05</td>\n      <td>0.000107</td>\n      <td>8.624325e-05</td>\n      <td>2</td>\n      <td>1</td>\n      <td>1</td>\n      <td>0.000107</td>\n      <td>NaN</td>\n    </tr>\n    <tr>\n      <th>778</th>\n      <td>752014</td>\n      <td>0.000191</td>\n      <td>1.820639e-04</td>\n      <td>0.000204</td>\n      <td>1.611086e-04</td>\n      <td>2</td>\n      <td>2</td>\n      <td>0</td>\n      <td>0.000102</td>\n      <td>NaN</td>\n    </tr>\n    <tr>\n      <th>2009</th>\n      <td>193034</td>\n      <td>0.000104</td>\n      <td>7.686650e-05</td>\n      <td>0.000085</td>\n      <td>6.871177e-05</td>\n      <td>1</td>\n      <td>1</td>\n      <td>0</td>\n      <td>0.000085</td>\n      <td>NaN</td>\n    </tr>\n    <tr>\n      <th>...</th>\n      <td>...</td>\n      <td>...</td>\n      <td>...</td>\n      <td>...</td>\n      <td>...</td>\n      <td>...</td>\n      <td>...</td>\n      <td>...</td>\n      <td>...</td>\n      <td>...</td>\n    </tr>\n    <tr>\n      <th>21535</th>\n      <td>176507</td>\n      <td>0.000012</td>\n      <td>2.879720e-07</td>\n      <td>0.000000</td>\n      <td>5.628240e-07</td>\n      <td>1</td>\n      <td>0</td>\n      <td>1</td>\n      <td>NaN</td>\n      <td>NaN</td>\n    </tr>\n    <tr>\n      <th>21536</th>\n      <td>80731</td>\n      <td>0.000012</td>\n      <td>2.879720e-07</td>\n      <td>0.000000</td>\n      <td>5.628240e-07</td>\n      <td>1</td>\n      <td>0</td>\n      <td>1</td>\n      <td>NaN</td>\n      <td>NaN</td>\n    </tr>\n    <tr>\n      <th>21537</th>\n      <td>199920</td>\n      <td>0.000012</td>\n      <td>2.879720e-07</td>\n      <td>0.000000</td>\n      <td>5.628240e-07</td>\n      <td>1</td>\n      <td>0</td>\n      <td>1</td>\n      <td>NaN</td>\n      <td>NaN</td>\n    </tr>\n    <tr>\n      <th>21538</th>\n      <td>18452</td>\n      <td>0.000012</td>\n      <td>2.879720e-07</td>\n      <td>0.000000</td>\n      <td>5.628240e-07</td>\n      <td>1</td>\n      <td>0</td>\n      <td>1</td>\n      <td>NaN</td>\n      <td>NaN</td>\n    </tr>\n    <tr>\n      <th>21539</th>\n      <td>18744</td>\n      <td>0.000012</td>\n      <td>2.879720e-07</td>\n      <td>0.000000</td>\n      <td>5.628240e-07</td>\n      <td>1</td>\n      <td>0</td>\n      <td>1</td>\n      <td>NaN</td>\n      <td>NaN</td>\n    </tr>\n  </tbody>\n</table>\n<p>21540 rows × 10 columns</p>\n</div>"
     },
     "execution_count": 317,
     "metadata": {},
     "output_type": "execute_result"
    }
   ],
   "source": [
    "ts_df"
   ],
   "metadata": {
    "collapsed": false,
    "pycharm": {
     "name": "#%%\n"
    }
   }
  },
  {
   "cell_type": "code",
   "execution_count": 318,
   "outputs": [
    {
     "data": {
      "text/plain": "            Node        PR  Degree  In-degree  Out-degree\n166          351  0.012151    2130       1984         146\n1119      375791  0.002411     566        518          48\n947       440295  0.002287     212        209           3\n3963      388677  0.002063     371        359          12\n121       386682  0.001898     476        449          27\n...          ...       ...     ...        ...         ...\n19911      23574  0.000012       2          0           2\n15623      19211  0.000012      12          0          12\n15617     856859  0.000012       3          0           3\n15612      51301  0.000012       4          0           4\n0      Gene ID 1  0.000012       1          0           1\n\n[21540 rows x 5 columns]",
      "text/html": "<div>\n<style scoped>\n    .dataframe tbody tr th:only-of-type {\n        vertical-align: middle;\n    }\n\n    .dataframe tbody tr th {\n        vertical-align: top;\n    }\n\n    .dataframe thead th {\n        text-align: right;\n    }\n</style>\n<table border=\"1\" class=\"dataframe\">\n  <thead>\n    <tr style=\"text-align: right;\">\n      <th></th>\n      <th>Node</th>\n      <th>PR</th>\n      <th>Degree</th>\n      <th>In-degree</th>\n      <th>Out-degree</th>\n    </tr>\n  </thead>\n  <tbody>\n    <tr>\n      <th>166</th>\n      <td>351</td>\n      <td>0.012151</td>\n      <td>2130</td>\n      <td>1984</td>\n      <td>146</td>\n    </tr>\n    <tr>\n      <th>1119</th>\n      <td>375791</td>\n      <td>0.002411</td>\n      <td>566</td>\n      <td>518</td>\n      <td>48</td>\n    </tr>\n    <tr>\n      <th>947</th>\n      <td>440295</td>\n      <td>0.002287</td>\n      <td>212</td>\n      <td>209</td>\n      <td>3</td>\n    </tr>\n    <tr>\n      <th>3963</th>\n      <td>388677</td>\n      <td>0.002063</td>\n      <td>371</td>\n      <td>359</td>\n      <td>12</td>\n    </tr>\n    <tr>\n      <th>121</th>\n      <td>386682</td>\n      <td>0.001898</td>\n      <td>476</td>\n      <td>449</td>\n      <td>27</td>\n    </tr>\n    <tr>\n      <th>...</th>\n      <td>...</td>\n      <td>...</td>\n      <td>...</td>\n      <td>...</td>\n      <td>...</td>\n    </tr>\n    <tr>\n      <th>19911</th>\n      <td>23574</td>\n      <td>0.000012</td>\n      <td>2</td>\n      <td>0</td>\n      <td>2</td>\n    </tr>\n    <tr>\n      <th>15623</th>\n      <td>19211</td>\n      <td>0.000012</td>\n      <td>12</td>\n      <td>0</td>\n      <td>12</td>\n    </tr>\n    <tr>\n      <th>15617</th>\n      <td>856859</td>\n      <td>0.000012</td>\n      <td>3</td>\n      <td>0</td>\n      <td>3</td>\n    </tr>\n    <tr>\n      <th>15612</th>\n      <td>51301</td>\n      <td>0.000012</td>\n      <td>4</td>\n      <td>0</td>\n      <td>4</td>\n    </tr>\n    <tr>\n      <th>0</th>\n      <td>Gene ID 1</td>\n      <td>0.000012</td>\n      <td>1</td>\n      <td>0</td>\n      <td>1</td>\n    </tr>\n  </tbody>\n</table>\n<p>21540 rows × 5 columns</p>\n</div>"
     },
     "execution_count": 318,
     "metadata": {},
     "output_type": "execute_result"
    }
   ],
   "source": [
    "basic_df"
   ],
   "metadata": {
    "collapsed": false,
    "pycharm": {
     "name": "#%%\n"
    }
   }
  },
  {
   "cell_type": "markdown",
   "source": [
    "### Evaluating the similarity / difference between the two ranking outcomes using Kendall tau\n",
    "(from scratch)"
   ],
   "metadata": {
    "collapsed": false,
    "pycharm": {
     "name": "#%% md\n"
    }
   }
  },
  {
   "cell_type": "code",
   "execution_count": 305,
   "outputs": [],
   "source": [
    "import numpy as np\n",
    "\n",
    "basic_nodes = basic_df[\"Node\"].to_numpy()\n",
    "ts_nodes= ts_df[\"Node\"].to_numpy()"
   ],
   "metadata": {
    "collapsed": false,
    "pycharm": {
     "name": "#%%\n"
    }
   }
  },
  {
   "cell_type": "code",
   "execution_count": 306,
   "outputs": [
    {
     "data": {
      "text/plain": "4753.0"
     },
     "execution_count": 306,
     "metadata": {},
     "output_type": "execute_result"
    }
   ],
   "source": [
    "bi_co = (len(ts_nodes)*(len(ts_nodes)-1))*0.5\n",
    "bi_co"
   ],
   "metadata": {
    "collapsed": false,
    "pycharm": {
     "name": "#%%\n"
    }
   }
  },
  {
   "cell_type": "code",
   "execution_count": 307,
   "outputs": [],
   "source": [
    "c_pairs=[]\n",
    "for xi, v1 in enumerate(basic_nodes):\n",
    "    for yi, v2 in enumerate(ts_nodes):\n",
    "        if v1==v2:\n",
    "            for xj, v3 in enumerate(basic_nodes):\n",
    "                if xi<xj and v3!=v1:\n",
    "                    for yj, v4 in enumerate(ts_nodes):\n",
    "                        if v3==v4 and yi<yj:\n",
    "                            c_pairs.append([v1,v3])"
   ],
   "metadata": {
    "collapsed": false,
    "pycharm": {
     "name": "#%%\n"
    }
   }
  },
  {
   "cell_type": "code",
   "execution_count": 308,
   "outputs": [],
   "source": [
    "arr_c_pairs=np.array(c_pairs)\n",
    "c_pairs_freq=len(arr_c_pairs)\n",
    "d_pairs_freq=bi_co-c_pairs_freq"
   ],
   "metadata": {
    "collapsed": false,
    "pycharm": {
     "name": "#%%\n"
    }
   }
  },
  {
   "cell_type": "code",
   "execution_count": 309,
   "outputs": [],
   "source": [
    "tau=(c_pairs_freq-d_pairs_freq)/bi_co"
   ],
   "metadata": {
    "collapsed": false,
    "pycharm": {
     "name": "#%%\n"
    }
   }
  },
  {
   "cell_type": "code",
   "execution_count": 310,
   "outputs": [
    {
     "data": {
      "text/plain": "0.5644855880496529"
     },
     "execution_count": 310,
     "metadata": {},
     "output_type": "execute_result"
    }
   ],
   "source": [
    "tau"
   ],
   "metadata": {
    "collapsed": false,
    "pycharm": {
     "name": "#%%\n"
    }
   }
  },
  {
   "cell_type": "code",
   "execution_count": 327,
   "outputs": [
    {
     "data": {
      "text/plain": "<Figure size 4000x800 with 1 Axes>",
      "image/png": "[encoded data removed]"
     },
     "metadata": {
      "needs_background": "light"
     },
     "output_type": "display_data"
    }
   ],
   "source": [
    "import matplotlib.pyplot as plt\n",
    "import numpy as np\n",
    "from matplotlib.pyplot import figure\n",
    "\n",
    "figure(figsize=(50, 10), dpi=80)\n",
    "\n",
    "nodes=np.c_[ts_nodes, basic_nodes]\n",
    "\n",
    "plt.imshow(nodes, cmap='hot', interpolation='nearest')\n",
    "plt.show()"
   ],
   "metadata": {
    "collapsed": false,
    "pycharm": {
     "name": "#%%\n"
    }
   }
  },
  {
   "cell_type": "markdown",
   "source": [
    "## statistical descriptive comparison of outcomes"
   ],
   "metadata": {
    "collapsed": false,
    "pycharm": {
     "name": "#%% md\n"
    }
   }
  },
  {
   "cell_type": "code",
   "execution_count": 335,
   "outputs": [
    {
     "data": {
      "text/plain": "count    1000.000000\nmean       15.221000\nstd        28.495406\nmin         1.000000\n25%         2.000000\n50%         6.000000\n75%        16.000000\nmax       371.000000\nName: Degree, dtype: float64"
     },
     "execution_count": 335,
     "metadata": {},
     "output_type": "execute_result"
    }
   ],
   "source": [
    "top_basic_df=basic_df[:1000]\n",
    "top_ts_df=ts_df[:1000]\n",
    "top_ts_df['Degree'].describe()"
   ],
   "metadata": {
    "collapsed": false,
    "pycharm": {
     "name": "#%%\n"
    }
   }
  },
  {
   "cell_type": "code",
   "execution_count": 336,
   "outputs": [
    {
     "data": {
      "text/plain": "count    1000.000000\nmean      204.219000\nstd       168.377594\nmin         2.000000\n25%       102.000000\n50%       164.500000\n75%       264.000000\nmax      2130.000000\nName: Degree, dtype: float64"
     },
     "execution_count": 336,
     "metadata": {},
     "output_type": "execute_result"
    }
   ],
   "source": [
    "top_basic_df['Degree'].describe()"
   ],
   "metadata": {
    "collapsed": false,
    "pycharm": {
     "name": "#%%\n"
    }
   }
  },
  {
   "cell_type": "markdown",
   "source": [
    "## Graphical visualization of result"
   ],
   "metadata": {
    "collapsed": false,
    "pycharm": {
     "name": "#%% md\n"
    }
   }
  },
  {
   "cell_type": "code",
   "execution_count": null,
   "outputs": [],
   "source": [
    "import networkx as nx\n",
    "\n",
    "basic_graph = nx.DiGraph()\n",
    "ts_graph = nx.DiGraph()\n",
    "g_in = {}\n",
    "g_out = {}\n",
    "g_inout = {}\n",
    "degrees = {'in': 0, 'out': 0, 'inout': 0}\n",
    "alpha=0.85\n",
    "\n",
    "file = open('bio-pathways-network.csv', 'r')\n",
    "for row in file.readlines()[1:]:\n",
    "    node1, node2 = row.strip().split(\",\")\n",
    "    for node in basic_nodes[:10]:\n",
    "        if node1 == node:\n",
    "            basic_graph.add_edge(node1, node2)\n",
    "    for node in ts_nodes[:10]:\n",
    "        if node1 == node:\n",
    "            ts_graph.add_edge(node1, node2)\n",
    "file.close()"
   ],
   "metadata": {
    "collapsed": false,
    "pycharm": {
     "name": "#%%\n",
     "is_executing": true
    }
   }
  },
  {
   "cell_type": "code",
   "execution_count": 350,
   "outputs": [
    {
     "data": {
      "text/plain": "<Figure size 432x288 with 1 Axes>",
      "image/png": "[encoded data removed]"
     },
     "metadata": {},
     "output_type": "display_data"
    }
   ],
   "source": [
    "import matplotlib.pyplot as plt\n",
    "subplt1 = plt.subplot()\n",
    "options = {'node_color': 'black','node_size': 100, 'width': 3,}\n",
    "nx.draw(ts_graph, **options, with_labels=True)\n",
    "plt.savefig(\"basic_graph.png\")"
   ],
   "metadata": {
    "collapsed": false,
    "pycharm": {
     "name": "#%%\n"
    }
   }
  },
  {
   "cell_type": "code",
   "execution_count": 2,
   "outputs": [
    {
     "ename": "NameError",
     "evalue": "name 'basic_nodes' is not defined",
     "output_type": "error",
     "traceback": [
      "\u001B[0;31m---------------------------------------------------------------------------\u001B[0m",
      "\u001B[0;31mNameError\u001B[0m                                 Traceback (most recent call last)",
      "Input \u001B[0;32mIn [2]\u001B[0m, in \u001B[0;36m<cell line: 1>\u001B[0;34m()\u001B[0m\n\u001B[0;32m----> 1\u001B[0m \u001B[38;5;28;01mfor\u001B[39;00m node \u001B[38;5;129;01min\u001B[39;00m \u001B[43mbasic_nodes\u001B[49m[:\u001B[38;5;241m10\u001B[39m]:\n\u001B[1;32m      2\u001B[0m     \u001B[38;5;28mprint\u001B[39m(node)\n",
      "\u001B[0;31mNameError\u001B[0m: name 'basic_nodes' is not defined"
     ]
    }
   ],
   "source": [
    "for node in basic_nodes[:10]:\n",
    "    print(node)"
   ],
   "metadata": {
    "collapsed": false,
    "pycharm": {
     "name": "#%%\n"
    }
   }
  },
  {
   "cell_type": "code",
   "execution_count": null,
   "outputs": [],
   "source": [],
   "metadata": {
    "collapsed": false,
    "pycharm": {
     "name": "#%%\n"
    }
   }
  }
 ],
 "metadata": {
  "kernelspec": {
   "display_name": "Python 3",
   "language": "python",
   "name": "python3"
  },
  "language_info": {
   "codemirror_mode": {
    "name": "ipython",
    "version": 2
   },
   "file_extension": ".py",
   "mimetype": "text/x-python",
   "name": "python",
   "nbconvert_exporter": "python",
   "pygments_lexer": "ipython2",
   "version": "2.7.6"
  }
 },
 "nbformat": 4,
 "nbformat_minor": 0
}